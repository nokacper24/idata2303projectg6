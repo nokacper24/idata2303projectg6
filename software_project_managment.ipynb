{
 "cells": [
  {
   "cell_type": "code",
   "execution_count": 87,
   "metadata": {},
   "outputs": [
    {
     "name": "stdout",
     "output_type": "stream",
     "text": [
      "The sql extension is already loaded. To reload it, use:\n",
      "  %reload_ext sql\n"
     ]
    }
   ],
   "source": [
    "%load_ext sql\n",
    "%sql sqlite:///software_project_management.db"
   ]
  },
  {
   "cell_type": "code",
   "execution_count": 88,
   "metadata": {
    "vscode": {
     "languageId": "sql"
    }
   },
   "outputs": [
    {
     "name": "stdout",
     "output_type": "stream",
     "text": [
      " * sqlite:///software_project_management.db\n",
      "Done.\n",
      "Done.\n",
      "Done.\n",
      "Done.\n",
      "Done.\n"
     ]
    },
    {
     "data": {
      "text/plain": [
       "[]"
      ]
     },
     "execution_count": 88,
     "metadata": {},
     "output_type": "execute_result"
    }
   ],
   "source": [
    "%%sql\n",
    "DROP TABLE IF EXISTS Project;\n",
    "DROP TABLE IF EXISTS Employee;\n",
    "DROP TABLE IF EXISTS Plan;\n",
    "DROP TABLE IF EXISTS Activity;\n",
    "DROP TABLE IF EXISTS EmployeeActivity;\n"
   ]
  },
  {
   "cell_type": "code",
   "execution_count": 89,
   "metadata": {
    "vscode": {
     "languageId": "sql"
    }
   },
   "outputs": [
    {
     "name": "stdout",
     "output_type": "stream",
     "text": [
      " * sqlite:///software_project_management.db\n",
      "Done.\n"
     ]
    },
    {
     "data": {
      "text/plain": [
       "[]"
      ]
     },
     "execution_count": 89,
     "metadata": {},
     "output_type": "execute_result"
    }
   ],
   "source": [
    "%%sql\n",
    "CREATE TABLE IF NOT EXISTS Employee (\n",
    "    employeeid INTEGER PRIMARY KEY,\n",
    "    name TEXT NOT NULL,\n",
    "    hourlycost FLOAT NOT NULL\n",
    ");"
   ]
  },
  {
   "cell_type": "code",
   "execution_count": 90,
   "metadata": {
    "vscode": {
     "languageId": "sql"
    }
   },
   "outputs": [
    {
     "name": "stdout",
     "output_type": "stream",
     "text": [
      " * sqlite:///software_project_management.db\n",
      "Done.\n"
     ]
    },
    {
     "data": {
      "text/plain": [
       "[]"
      ]
     },
     "execution_count": 90,
     "metadata": {},
     "output_type": "execute_result"
    }
   ],
   "source": [
    "%%sql\n",
    "CREATE TABLE IF NOT EXISTS Project (\n",
    "    projectname TEXT PRIMARY KEY,\n",
    "    leaderid INTEGER NOT NULL,\n",
    "    budget FLOAT NOT NULL,\n",
    "    startdate DATE NOT NULL,\n",
    "    enddate DATE NOT NULL,\n",
    "    FOREIGN KEY (leaderid) REFERENCES Employee(employeeid)\n",
    ");"
   ]
  },
  {
   "cell_type": "code",
   "execution_count": 91,
   "metadata": {
    "vscode": {
     "languageId": "sql"
    }
   },
   "outputs": [
    {
     "name": "stdout",
     "output_type": "stream",
     "text": [
      " * sqlite:///software_project_management.db\n",
      "Done.\n",
      "Done.\n"
     ]
    },
    {
     "data": {
      "text/plain": [
       "[]"
      ]
     },
     "execution_count": 91,
     "metadata": {},
     "output_type": "execute_result"
    }
   ],
   "source": [
    "%%sql\n",
    "CREATE TABLE IF NOT EXISTS Plan (\n",
    "    planid INTEGER PRIMARY KEY,\n",
    "    projectname TEXT NOT NULL,\n",
    "    startdate DATE NOT NULL,\n",
    "    enddate DATE NOT NULL,\n",
    "    FOREIGN KEY (projectname) REFERENCES Project(projectname)\n",
    "    CHECK (startdate <= enddate)\n",
    ");\n",
    "\n",
    "CREATE TRIGGER IF NOT EXISTS check_plan_dates\n",
    "BEFORE INSERT ON Plan\n",
    "FOR EACH ROW\n",
    "BEGIN\n",
    "    SELECT RAISE(ABORT, 'Plan dates are not within project dates')\n",
    "    FROM Project\n",
    "    WHERE Project.projectname = NEW.projectname\n",
    "    AND (NEW.startdate < Project.startdate OR NEW.enddate > Project.enddate);\n",
    "END;"
   ]
  },
  {
   "cell_type": "code",
   "execution_count": 92,
   "metadata": {
    "vscode": {
     "languageId": "sql"
    }
   },
   "outputs": [
    {
     "name": "stdout",
     "output_type": "stream",
     "text": [
      " * sqlite:///software_project_management.db\n",
      "Done.\n",
      "Done.\n"
     ]
    },
    {
     "data": {
      "text/plain": [
       "[]"
      ]
     },
     "execution_count": 92,
     "metadata": {},
     "output_type": "execute_result"
    }
   ],
   "source": [
    "%%sql\n",
    "CREATE TABLE IF NOT EXISTS Activity (\n",
    "    activityid INTEGER PRIMARY KEY,\n",
    "    planid INTEGER NOT NULL,\n",
    "    activitytype TEXT NOT NULL,\n",
    "    startdate DATE NOT NULL,\n",
    "    enddate DATE NOT NULL,\n",
    "    FOREIGN KEY (planid) REFERENCES Plan(planid)\n",
    "    CHECK (startdate <= enddate)\n",
    ");\n",
    "\n",
    "CREATE TRIGGER IF NOT EXISTS check_activity_dates\n",
    "BEFORE INSERT ON Activity\n",
    "FOR EACH ROW\n",
    "BEGIN\n",
    "    SELECT RAISE(ABORT, 'Activity dates are not within plan dates')\n",
    "    FROM Plan\n",
    "    WHERE Plan.planid = NEW.planid\n",
    "    AND (NEW.startdate < Plan.startdate OR NEW.enddate > Plan.enddate);\n",
    "END;"
   ]
  },
  {
   "cell_type": "code",
   "execution_count": 93,
   "metadata": {
    "vscode": {
     "languageId": "sql"
    }
   },
   "outputs": [
    {
     "name": "stdout",
     "output_type": "stream",
     "text": [
      " * sqlite:///software_project_management.db\n",
      "Done.\n"
     ]
    },
    {
     "data": {
      "text/plain": [
       "[]"
      ]
     },
     "execution_count": 93,
     "metadata": {},
     "output_type": "execute_result"
    }
   ],
   "source": [
    "%%sql\n",
    "CREATE TABLE IF NOT EXISTS EmployeeActivity (\n",
    "    employeeid INTEGER NOT NULL,\n",
    "    activityid INTEGER NOT NULL,\n",
    "    hoursworked FLOAT NOT NULL,\n",
    "    PRIMARY KEY (employeeid, activityid),\n",
    "    FOREIGN KEY (employeeid) REFERENCES Employee(employeeid),\n",
    "    FOREIGN KEY (activityid) REFERENCES Activity(activityid)\n",
    ");"
   ]
  },
  {
   "cell_type": "code",
   "execution_count": 96,
   "metadata": {
    "vscode": {
     "languageId": "sql"
    }
   },
   "outputs": [
    {
     "name": "stdout",
     "output_type": "stream",
     "text": [
      " * sqlite:///software_project_management.db\n",
      "1 rows affected.\n",
      "1 rows affected.\n",
      "1 rows affected.\n",
      "1 rows affected.\n",
      "1 rows affected.\n",
      "1 rows affected.\n",
      "1 rows affected.\n",
      "1 rows affected.\n",
      "1 rows affected.\n",
      "1 rows affected.\n",
      "1 rows affected.\n",
      "1 rows affected.\n",
      "1 rows affected.\n",
      "1 rows affected.\n",
      "1 rows affected.\n",
      "1 rows affected.\n",
      "1 rows affected.\n",
      "1 rows affected.\n",
      "1 rows affected.\n",
      "1 rows affected.\n",
      "1 rows affected.\n",
      "1 rows affected.\n",
      "1 rows affected.\n",
      "1 rows affected.\n",
      "1 rows affected.\n",
      "1 rows affected.\n",
      "1 rows affected.\n",
      "1 rows affected.\n",
      "1 rows affected.\n",
      "1 rows affected.\n",
      "1 rows affected.\n",
      "1 rows affected.\n",
      "1 rows affected.\n",
      "1 rows affected.\n",
      "1 rows affected.\n",
      "1 rows affected.\n",
      "1 rows affected.\n",
      "1 rows affected.\n",
      "1 rows affected.\n",
      "1 rows affected.\n"
     ]
    },
    {
     "data": {
      "text/plain": [
       "[]"
      ]
     },
     "execution_count": 96,
     "metadata": {},
     "output_type": "execute_result"
    }
   ],
   "source": [
    "%%sql\n",
    "-- 10 records for Employee table\n",
    "INSERT INTO Employee (name, hourlycost) VALUES ('James Johnson', 220.50);\n",
    "INSERT INTO Employee (name, hourlycost) VALUES ('Benjamin Dover', 220.50);\n",
    "INSERT INTO Employee (name, hourlycost) VALUES ('John Smith', 220.50);\n",
    "INSERT INTO Employee (name, hourlycost) VALUES ('Jane Doe', 220.50);\n",
    "INSERT INTO Employee (name, hourlycost) VALUES ('Eel On Musk', 250.50);\n",
    "INSERT INTO Employee (name, hourlycost) VALUES ('Amo Guss', 220.50);\n",
    "INSERT INTO Employee (name, hourlycost) VALUES ('Oliver Klozoff', 220.50);\n",
    "INSERT INTO Employee (name, hourlycost) VALUES ('Bea O Problem', 220.50);\n",
    "INSERT INTO Employee (name, hourlycost) VALUES ('Anita Bath', 220.50);\n",
    "INSERT INTO Employee (name, hourlycost) VALUES ('Ima Weiner ', 220.50);\n",
    "\n",
    "-- 10 records for Project table\n",
    "INSERT INTO Project VALUES ('Project 1', 1, 10000.00, '2018-01-01', '2018-12-31');\n",
    "INSERT INTO Project VALUES ('Fix twitter', 5, 200000.00, '2022-10-27', '2023-11-11');\n",
    "INSERT INTO Project VALUES ('Project 3', 3, 10000.00, '2012-01-01', '2014-12-31');\n",
    "INSERT INTO Project VALUES ('Project 4', 4, 10000.00, '2015-01-01', '2017-12-31');\n",
    "INSERT INTO Project VALUES ('Project 5', 5, 10000.00, '2020-01-01', '2023-12-31');\n",
    "INSERT INTO Project VALUES ('Project 6', 1, 50000.00, '2022-11-23', '2023-12-31');\n",
    "INSERT INTO Project VALUES ('Project 7', 5, 10000.00, '2019-01-01', '2019-12-31');\n",
    "INSERT INTO Project VALUES ('Project 8', 3, 80000.00, '2022-12-21', '2023-05-22');\n",
    "INSERT INTO Project VALUES ('Project 9', 4, 10000.00, '2020-10-21', '2022-12-31');\n",
    "INSERT INTO Project VALUES ('Project 10', 5, 50000.00, '2018-05-01', '2019-12-31');\n",
    "\n",
    "-- 10 records for Plan table\n",
    "INSERT INTO Plan (projectname, startdate, enddate) VALUES ('Project 1', '2018-01-01', '2018-12-31');\n",
    "INSERT INTO Plan (projectname, startdate, enddate) VALUES ('Fix twitter', '2022-12-10', '2022-12-12');\n",
    "INSERT INTO Plan (projectname, startdate, enddate) VALUES ('Project 3', '2012-05-01', '2013-12-31');\n",
    "INSERT INTO Plan (projectname, startdate, enddate) VALUES ('Project 4', '2015-03-01', '2016-12-31');\n",
    "INSERT INTO Plan (projectname, startdate, enddate) VALUES ('Project 5', '2020-05-01', '2023-06-31');\n",
    "INSERT INTO Plan (projectname, startdate, enddate) VALUES ('Project 6', '2022-12-23', '2023-01-31');\n",
    "INSERT INTO Plan (projectname, startdate, enddate) VALUES ('Project 7', '2019-05-01', '2019-09-31');\n",
    "INSERT INTO Plan (projectname, startdate, enddate) VALUES ('Project 8', '2023-01-21', '2023-04-22');\n",
    "INSERT INTO Plan (projectname, startdate, enddate) VALUES ('Project 9', '2020-12-21', '2021-12-31');\n",
    "INSERT INTO Plan (projectname, startdate, enddate) VALUES ('Project 10', '2018-12-01', '2019-02-31');\n",
    "\n",
    "-- 10 records for Activity table, activity in (requirement analysis, architecture design, development, testing, deploymen)\n",
    "INSERT INTO Activity (planid, activitytype, startdate, enddate) VALUES (1, 'requirement analysis', '2018-01-01', '2018-01-31');\n",
    "INSERT INTO Activity (planid, activitytype, startdate, enddate) VALUES (2, 'architecture design', '2022-12-10', '2022-12-12');\n",
    "INSERT INTO Activity (planid, activitytype, startdate, enddate) VALUES (3, 'development', '2012-05-01', '2013-06-31');\n",
    "INSERT INTO Activity (planid, activitytype, startdate, enddate) VALUES (4, 'testing', '2015-03-01', '2016-04-31');\n",
    "INSERT INTO Activity (planid, activitytype, startdate, enddate) VALUES (5, 'deployment', '2020-05-02', '2020-06-31');\n",
    "INSERT INTO Activity (planid, activitytype, startdate, enddate) VALUES (6, 'requirement analysis', '2022-12-24', '2023-01-20');\n",
    "INSERT INTO Activity (planid, activitytype, startdate, enddate) VALUES (7, 'architecture design', '2019-05-02', '2019-06-30');\n",
    "INSERT INTO Activity (planid, activitytype, startdate, enddate) VALUES (8, 'development', '2023-01-22', '2023-02-20');\n",
    "INSERT INTO Activity (planid, activitytype, startdate, enddate) VALUES (9, 'testing', '2020-12-22', '2021-01-31');\n",
    "INSERT INTO Activity (planid, activitytype, startdate, enddate) VALUES (10, 'deployment', '2018-12-02', '2018-12-31');"
   ]
  }
 ],
 "metadata": {
  "kernelspec": {
   "display_name": "Python 3.10.7 64-bit",
   "language": "python",
   "name": "python3"
  },
  "language_info": {
   "codemirror_mode": {
    "name": "ipython",
    "version": 3
   },
   "file_extension": ".py",
   "mimetype": "text/x-python",
   "name": "python",
   "nbconvert_exporter": "python",
   "pygments_lexer": "ipython3",
   "version": "3.11.0"
  },
  "orig_nbformat": 4,
  "vscode": {
   "interpreter": {
    "hash": "e7370f93d1d0cde622a1f8e1c04877d8463912d04d973331ad4851f04de6915a"
   }
  }
 },
 "nbformat": 4,
 "nbformat_minor": 2
}
