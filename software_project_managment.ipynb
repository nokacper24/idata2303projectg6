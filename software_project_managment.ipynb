{
 "cells": [
  {
   "cell_type": "markdown",
   "metadata": {},
   "source": [
    "Load sql extention, connect to database file and turn on foreign keys"
   ]
  },
  {
   "cell_type": "code",
   "execution_count": 1,
   "metadata": {},
   "outputs": [
    {
     "name": "stdout",
     "output_type": "stream",
     "text": [
      " * sqlite:///software_project_management.db\n",
      "Done.\n"
     ]
    },
    {
     "data": {
      "text/plain": [
       "[]"
      ]
     },
     "execution_count": 1,
     "metadata": {},
     "output_type": "execute_result"
    }
   ],
   "source": [
    "%load_ext sql\n",
    "%sql sqlite:///software_project_management.db\n",
    "%sql PRAGMA foreign_keys = ON;"
   ]
  },
  {
   "cell_type": "markdown",
   "metadata": {},
   "source": [
    "### Drop all tables"
   ]
  },
  {
   "cell_type": "code",
   "execution_count": 2,
   "metadata": {
    "vscode": {
     "languageId": "sql"
    }
   },
   "outputs": [
    {
     "name": "stdout",
     "output_type": "stream",
     "text": [
      " * sqlite:///software_project_management.db\n",
      "Done.\n",
      "Done.\n",
      "Done.\n",
      "Done.\n",
      "Done.\n"
     ]
    },
    {
     "data": {
      "text/plain": [
       "[]"
      ]
     },
     "execution_count": 2,
     "metadata": {},
     "output_type": "execute_result"
    }
   ],
   "source": [
    "%%sql\n",
    "DROP TABLE IF EXISTS EmployeeActivity;\n",
    "DROP TABLE IF EXISTS Activity;\n",
    "DROP TABLE IF EXISTS Plan;\n",
    "DROP TABLE IF EXISTS Project;\n",
    "DROP TABLE IF EXISTS Employee;\n"
   ]
  },
  {
   "cell_type": "markdown",
   "metadata": {},
   "source": [
    "### Creates Employee table  \n",
    "Constraints:\n",
    "- employeeid is a primary key\n",
    "- name and hourycost are not null\n",
    "- hourly cost is a positive number"
   ]
  },
  {
   "cell_type": "code",
   "execution_count": 3,
   "metadata": {
    "vscode": {
     "languageId": "sql"
    }
   },
   "outputs": [
    {
     "name": "stdout",
     "output_type": "stream",
     "text": [
      " * sqlite:///software_project_management.db\n",
      "Done.\n"
     ]
    },
    {
     "data": {
      "text/plain": [
       "[]"
      ]
     },
     "execution_count": 3,
     "metadata": {},
     "output_type": "execute_result"
    }
   ],
   "source": [
    "%%sql\n",
    "CREATE TABLE IF NOT EXISTS Employee (\n",
    "    employeeid INTEGER PRIMARY KEY,\n",
    "    name TEXT NOT NULL,\n",
    "    hourlycost FLOAT NOT NULL\n",
    "    CHECK (hourlycost > 0)\n",
    ");"
   ]
  },
  {
   "cell_type": "markdown",
   "metadata": {},
   "source": [
    "### Creates project table  \n",
    "Constraints:\n",
    "- projectid is a primary key\n",
    "- no null values\n",
    "- budget is a positive number\n",
    "- leaderid is a foreign key referencing employeeid\n",
    "- startdate is before enddate\n",
    "- budget is more than 0\n"
   ]
  },
  {
   "cell_type": "code",
   "execution_count": 4,
   "metadata": {
    "vscode": {
     "languageId": "sql"
    }
   },
   "outputs": [
    {
     "name": "stdout",
     "output_type": "stream",
     "text": [
      " * sqlite:///software_project_management.db\n",
      "Done.\n"
     ]
    },
    {
     "data": {
      "text/plain": [
       "[]"
      ]
     },
     "execution_count": 4,
     "metadata": {},
     "output_type": "execute_result"
    }
   ],
   "source": [
    "%%sql\n",
    "CREATE TABLE IF NOT EXISTS Project (\n",
    "    projectname TEXT PRIMARY KEY,\n",
    "    leaderid INTEGER NOT NULL,\n",
    "    budget FLOAT NOT NULL,\n",
    "    startdate DATE NOT NULL,\n",
    "    enddate DATE NOT NULL,\n",
    "    FOREIGN KEY (leaderid) REFERENCES Employee(employeeid)\n",
    "    CHECK (enddate > startdate AND budget > 0)\n",
    ");"
   ]
  },
  {
   "cell_type": "markdown",
   "metadata": {},
   "source": [
    "### Creates Plan table  \n",
    "Constraints:\n",
    "- planname is a primary key\n",
    "- no null values\n",
    "- projectname is a foreign key referencing projectname (primary key in project table)\n",
    "- startdate is before or the same as enddate (allowing one day plans)\n",
    "- startdate and enddate are within the project start and end date (can be equal)"
   ]
  },
  {
   "cell_type": "code",
   "execution_count": 5,
   "metadata": {
    "vscode": {
     "languageId": "sql"
    }
   },
   "outputs": [
    {
     "name": "stdout",
     "output_type": "stream",
     "text": [
      " * sqlite:///software_project_management.db\n",
      "Done.\n",
      "Done.\n"
     ]
    },
    {
     "data": {
      "text/plain": [
       "[]"
      ]
     },
     "execution_count": 5,
     "metadata": {},
     "output_type": "execute_result"
    }
   ],
   "source": [
    "%%sql\n",
    "CREATE TABLE IF NOT EXISTS Plan (\n",
    "    planname TEXT PRIMARY KEY,\n",
    "    projectname TEXT NOT NULL,\n",
    "    startdate DATE NOT NULL,\n",
    "    enddate DATE NOT NULL,\n",
    "    FOREIGN KEY (projectname) REFERENCES Project(projectname)\n",
    "    CHECK (startdate <= enddate)\n",
    ");\n",
    "\n",
    "CREATE TRIGGER IF NOT EXISTS check_plan_dates\n",
    "BEFORE INSERT ON Plan\n",
    "FOR EACH ROW\n",
    "BEGIN\n",
    "    SELECT RAISE(ABORT, 'Plan dates are not within project dates')\n",
    "    FROM Project\n",
    "    WHERE Project.projectname = NEW.projectname\n",
    "    AND (NEW.startdate < Project.startdate OR NEW.enddate > Project.enddate);\n",
    "END;"
   ]
  },
  {
   "cell_type": "markdown",
   "metadata": {},
   "source": [
    "### Creates Activity table\n",
    "Constraints:\n",
    "- activityid is a primary key\n",
    "- no null values\n",
    "- planname is a foreign key referencing planname (primary key in plan table)\n",
    "- startdate is before or the same as enddate (allowing one day activities)\n",
    "- startdate and enddate are within the plan start and end date (can be equal)"
   ]
  },
  {
   "cell_type": "code",
   "execution_count": 6,
   "metadata": {
    "vscode": {
     "languageId": "sql"
    }
   },
   "outputs": [
    {
     "name": "stdout",
     "output_type": "stream",
     "text": [
      " * sqlite:///software_project_management.db\n",
      "Done.\n",
      "Done.\n"
     ]
    },
    {
     "data": {
      "text/plain": [
       "[]"
      ]
     },
     "execution_count": 6,
     "metadata": {},
     "output_type": "execute_result"
    }
   ],
   "source": [
    "%%sql\n",
    "CREATE TABLE IF NOT EXISTS Activity (\n",
    "    activityid INTEGER PRIMARY KEY,\n",
    "    planname TEXT NOT NULL,\n",
    "    activitytype TEXT NOT NULL,\n",
    "    startdate DATE NOT NULL,\n",
    "    enddate DATE NOT NULL,\n",
    "    FOREIGN KEY (planname) REFERENCES Plan(planname)\n",
    "    CHECK (startdate <= enddate)\n",
    ");\n",
    "\n",
    "CREATE TRIGGER IF NOT EXISTS check_activity_dates\n",
    "BEFORE INSERT ON Activity\n",
    "FOR EACH ROW\n",
    "BEGIN\n",
    "    SELECT RAISE(ABORT, 'Activity dates are not within plan dates')\n",
    "    FROM Plan\n",
    "    WHERE Plan.planname = NEW.planname\n",
    "    AND (NEW.startdate < Plan.startdate OR NEW.enddate > Plan.enddate);\n",
    "END;"
   ]
  },
  {
   "cell_type": "markdown",
   "metadata": {},
   "source": [
    "### Creates EmployeeActivity table\n",
    "Constraints:\n",
    "- employeeid and activityid are a composite primary key\n",
    "- employeeid is a foreign key referencing employeeid (primary key in employee table)\n",
    "- activityid is a foreign key referencing activityid (primary key in activity table)\n",
    "- no null values\n",
    "- hours is a positive number"
   ]
  },
  {
   "cell_type": "code",
   "execution_count": 7,
   "metadata": {
    "vscode": {
     "languageId": "sql"
    }
   },
   "outputs": [
    {
     "name": "stdout",
     "output_type": "stream",
     "text": [
      " * sqlite:///software_project_management.db\n",
      "Done.\n"
     ]
    },
    {
     "data": {
      "text/plain": [
       "[]"
      ]
     },
     "execution_count": 7,
     "metadata": {},
     "output_type": "execute_result"
    }
   ],
   "source": [
    "%%sql\n",
    "CREATE TABLE IF NOT EXISTS EmployeeActivity (\n",
    "    employeeid INTEGER NOT NULL,\n",
    "    activityid INTEGER NOT NULL,\n",
    "    hoursworked FLOAT NOT NULL,\n",
    "    PRIMARY KEY (employeeid, activityid),\n",
    "    FOREIGN KEY (employeeid) REFERENCES Employee(employeeid),\n",
    "    FOREIGN KEY (activityid) REFERENCES Activity(activityid)\n",
    "    CHECK (hoursworked > 0)\n",
    ");"
   ]
  },
  {
   "cell_type": "markdown",
   "metadata": {},
   "source": [
    "### Add data to all tables\n",
    "10 tuples in each table"
   ]
  },
  {
   "cell_type": "code",
   "execution_count": null,
   "metadata": {
    "vscode": {
     "languageId": "sql"
    }
   },
   "outputs": [],
   "source": [
    "%%sql\n",
    "-- 10 records for Employee table\n",
    "INSERT INTO Employee (name, hourlycost) VALUES ('James Johnson', 220.50);\n",
    "INSERT INTO Employee (name, hourlycost) VALUES ('Benjamin Dover', 220.50);\n",
    "INSERT INTO Employee (name, hourlycost) VALUES ('John Smith', 220.50);\n",
    "INSERT INTO Employee (name, hourlycost) VALUES ('Jane Doe', 220.50);\n",
    "INSERT INTO Employee (name, hourlycost) VALUES ('Eel On Musk', 250.50);\n",
    "INSERT INTO Employee (name, hourlycost) VALUES ('Amo Guss', 220.50);\n",
    "INSERT INTO Employee (name, hourlycost) VALUES ('Oliver Klozoff', 220.50);\n",
    "INSERT INTO Employee (name, hourlycost) VALUES ('Bea O Problem', 220.50);\n",
    "INSERT INTO Employee (name, hourlycost) VALUES ('Anita Bath', 220.50);\n",
    "INSERT INTO Employee (name, hourlycost) VALUES ('Ima Weiner ', 220.50);\n",
    "\n",
    "-- 10 records for Project table\n",
    "INSERT INTO Project VALUES ('A', 1, 10000.00, '2018-01-01', '2018-12-31');\n",
    "INSERT INTO Project VALUES ('Fix twitter', 5, 200000.00, '2022-10-27', '2023-11-11');\n",
    "INSERT INTO Project VALUES ('B', 3, 10000.00, '2012-01-01', '2014-12-31');\n",
    "INSERT INTO Project VALUES ('Project 4', 4, 10000.00, '2015-01-01', '2017-12-31');\n",
    "INSERT INTO Project VALUES ('Project 5', 5, 10000.00, '2020-01-01', '2023-12-31');\n",
    "INSERT INTO Project VALUES ('Project 6', 1, 50000.00, '2022-11-23', '2023-12-31');\n",
    "INSERT INTO Project VALUES ('Project 7', 5, 10000.00, '2019-01-01', '2019-12-31');\n",
    "INSERT INTO Project VALUES ('Project 8', 3, 80000.00, '2022-12-21', '2023-05-22');\n",
    "INSERT INTO Project VALUES ('Project 9', 4, 10000.00, '2020-10-21', '2022-12-31');\n",
    "INSERT INTO Project VALUES ('Project 10', 5, 50000.00, '2018-05-01', '2019-12-31');\n",
    "\n",
    "-- 10 records for Plan table\n",
    "INSERT INTO Plan VALUES ('A', 'A', '2018-01-01', '2018-12-31');\n",
    "INSERT INTO Plan VALUES ('B', 'Fix twitter', '2022-12-10', '2022-12-12');\n",
    "INSERT INTO Plan VALUES ('Plan3', 'B', '2012-05-01', '2013-12-31');\n",
    "INSERT INTO Plan VALUES ('Plan4', 'Project 4', '2015-03-01', '2016-12-31');\n",
    "INSERT INTO Plan VALUES ('Plan5', 'Project 5', '2020-05-01', '2023-06-31');\n",
    "INSERT INTO Plan VALUES ('Plan6', 'Project 6', '2022-12-23', '2023-01-31');\n",
    "INSERT INTO Plan VALUES ('Plan7', 'Project 7', '2019-05-01', '2019-09-31');\n",
    "INSERT INTO Plan VALUES ('Plan8', 'Project 8', '2023-01-21', '2023-04-22');\n",
    "INSERT INTO Plan VALUES ('Plan9', 'Project 9', '2020-12-21', '2021-12-31');\n",
    "INSERT INTO Plan VALUES ('Plan10', 'Project 10', '2018-12-01', '2019-02-31');\n",
    "\n",
    "-- 10 records for Activity table\n",
    "INSERT INTO Activity (planname, activitytype, startdate, enddate) VALUES ('A', 'requirement analysis', '2018-01-01', '2018-01-31');\n",
    "INSERT INTO Activity (planname, activitytype, startdate, enddate) VALUES ('B', 'architecture design', '2022-12-10', '2022-12-12');\n",
    "INSERT INTO Activity (planname, activitytype, startdate, enddate) VALUES ('Plan3', 'development', '2012-05-01', '2013-06-31');\n",
    "INSERT INTO Activity (planname, activitytype, startdate, enddate) VALUES ('Plan4', 'testing', '2015-03-01', '2016-04-31');\n",
    "INSERT INTO Activity (planname, activitytype, startdate, enddate) VALUES ('Plan5', 'deployment', '2020-05-02', '2020-06-31');\n",
    "INSERT INTO Activity (planname, activitytype, startdate, enddate) VALUES ('Plan6', 'requirement analysis', '2022-12-24', '2023-01-20');\n",
    "INSERT INTO Activity (planname, activitytype, startdate, enddate) VALUES ('Plan7', 'architecture design', '2019-05-02', '2019-06-30');\n",
    "INSERT INTO Activity (planname, activitytype, startdate, enddate) VALUES ('Plan8', 'development', '2023-01-22', '2023-02-20');\n",
    "INSERT INTO Activity (planname, activitytype, startdate, enddate) VALUES ('Plan9', 'testing', '2020-12-22', '2021-01-31');\n",
    "INSERT INTO Activity (planname, activitytype, startdate, enddate) VALUES ('Plan10', 'deployment', '2018-12-02', '2018-12-31');\n",
    "\n",
    "-- 10 records for EmployeeActivity table\n",
    "INSERT INTO EmployeeActivity VALUES (1, 1, 10.5);\n",
    "INSERT INTO EmployeeActivity VALUES (2, 2, 3);\n",
    "INSERT INTO EmployeeActivity VALUES (3, 3, 2);\n",
    "INSERT INTO EmployeeActivity VALUES (4, 4, 120);\n",
    "INSERT INTO EmployeeActivity VALUES (5, 5, 30);\n",
    "INSERT INTO EmployeeActivity VALUES (6, 6, 0.45);\n",
    "INSERT INTO EmployeeActivity VALUES (7, 7, 70);\n",
    "INSERT INTO EmployeeActivity VALUES (8, 8, 12);\n",
    "INSERT INTO EmployeeActivity VALUES (9, 9, 50);\n",
    "INSERT INTO EmployeeActivity VALUES (10, 10, 4);"
   ]
  },
  {
   "cell_type": "markdown",
   "metadata": {},
   "source": [
    "### Database security\n",
    "TODO write stuff here\n",
    "\n",
    "\n",
    "*This does not work in sqllite, because users are not supported*"
   ]
  },
  {
   "cell_type": "code",
   "execution_count": null,
   "metadata": {
    "vscode": {
     "languageId": "sql"
    }
   },
   "outputs": [],
   "source": [
    "#user creation (not supported in sqlite)\n",
    "%%sql\n",
    "CREATE USER 'manager'@'localhost' IDENTIFIED BY 'manager';\n",
    "GRANT SELECT ON project.Employee TO 'manager'@'localhost';\n",
    "GRANT SELECT ON project.Project TO 'manager'@'localhost';\n",
    "GRANT SELECT ON project.Plan TO 'manager'@'localhost';\n",
    "GRANT SELECT ON project.Activity TO 'manager'@'localhost';\n",
    "GRANT SELECT ON project.EmployeeActivity TO 'manager'@'localhost';\n",
    "\n",
    "\n",
    "CREATE USER 'Anitha Bath'@'localhost' IDENTIFIED BY 'Anitha Bath';\n",
    "GRANT SELECT ON project.Project TO 'Anitha Bath'@'localhost';\n",
    "GRANT SELECT ON project.Plan TO 'Anitha Bath'@'localhost';\n",
    "GRANT SELECT ON project.Activity TO 'Anitha Bath'@'localhost';\n",
    "\n",
    "CREATE USER 'Amo Guss'@'localhost' IDENTIFIED BY 'Amo Guss';\n",
    "GRANT SELECT ON project.Project TO 'Amo Guss'@'localhost';\n",
    "GRANT SELECT ON project.Plan TO 'Amo Guss'@'localhost';\n",
    "GRANT SELECT ON project.Activity TO 'Amo Guss'@'localhost';"
   ]
  },
  {
   "cell_type": "markdown",
   "metadata": {},
   "source": [
    "## Query questions"
   ]
  },
  {
   "cell_type": "markdown",
   "metadata": {},
   "source": [
    "How many employees of for a project titled \"A\" are involved in its plan “B”?"
   ]
  },
  {
   "cell_type": "code",
   "execution_count": 10,
   "metadata": {
    "vscode": {
     "languageId": "sql"
    }
   },
   "outputs": [
    {
     "name": "stdout",
     "output_type": "stream",
     "text": [
      " * sqlite:///software_project_management.db\n",
      "Done.\n"
     ]
    },
    {
     "data": {
      "text/html": [
       "<table>\n",
       "    <tr>\n",
       "        <th>COUNT(*)</th>\n",
       "    </tr>\n",
       "    <tr>\n",
       "        <td>1</td>\n",
       "    </tr>\n",
       "</table>"
      ],
      "text/plain": [
       "[(1,)]"
      ]
     },
     "execution_count": 10,
     "metadata": {},
     "output_type": "execute_result"
    }
   ],
   "source": [
    "%%sql\n",
    "SELECT COUNT(*)\n",
    "FROM EmployeeActivity\n",
    "WHERE activityid IN (SELECT activityid FROM Activity WHERE planname = \"B\");"
   ]
  },
  {
   "cell_type": "markdown",
   "metadata": {},
   "source": [
    "Retrieve the names of plans made for project “A” with least cost."
   ]
  },
  {
   "cell_type": "code",
   "execution_count": 11,
   "metadata": {
    "vscode": {
     "languageId": "sql"
    }
   },
   "outputs": [
    {
     "name": "stdout",
     "output_type": "stream",
     "text": [
      " * sqlite:///software_project_management.db\n",
      "Done.\n"
     ]
    },
    {
     "data": {
      "text/html": [
       "<table>\n",
       "    <tr>\n",
       "        <th>planname</th>\n",
       "    </tr>\n",
       "    <tr>\n",
       "        <td>A</td>\n",
       "    </tr>\n",
       "</table>"
      ],
      "text/plain": [
       "[('A',)]"
      ]
     },
     "execution_count": 11,
     "metadata": {},
     "output_type": "execute_result"
    }
   ],
   "source": [
    "%%sql\n",
    "WITH costsOfPlansInA AS\n",
    "    (SELECT Plan.planname, SUM(EmployeeActivity.hoursworked * Employee.hourlycost) AS totalcost\n",
    "    FROM Plan, Activity, EmployeeActivity, Employee\n",
    "    WHERE Plan.planname = Activity.planname AND Activity.activityid = EmployeeActivity.activityid\n",
    "    AND EmployeeActivity.employeeid = Employee.employeeid AND Plan.projectname = \"A\"\n",
    "    GROUP BY Plan.planname),\n",
    "leastCost AS\n",
    "    (SELECT MIN(totalcost) AS mincost FROM costsOfPlansInA)\n",
    "\n",
    "SELECT planname FROM costsOfPlansInA, leastCost\n",
    "WHERE costsOfPlansInA.totalcost = leastCost.mincost;"
   ]
  },
  {
   "cell_type": "markdown",
   "metadata": {},
   "source": [
    "For each employee retrieve the name, project name and plan name with the most working time."
   ]
  },
  {
   "cell_type": "code",
   "execution_count": 12,
   "metadata": {
    "vscode": {
     "languageId": "sql"
    }
   },
   "outputs": [
    {
     "name": "stdout",
     "output_type": "stream",
     "text": [
      " * sqlite:///software_project_management.db\n",
      "Done.\n"
     ]
    },
    {
     "data": {
      "text/html": [
       "<table>\n",
       "    <tr>\n",
       "        <th>name</th>\n",
       "        <th>projectname</th>\n",
       "        <th>planname</th>\n",
       "    </tr>\n",
       "    <tr>\n",
       "        <td>James Johnson</td>\n",
       "        <td>A</td>\n",
       "        <td>A</td>\n",
       "    </tr>\n",
       "    <tr>\n",
       "        <td>Benjamin Dover</td>\n",
       "        <td>Fix twitter</td>\n",
       "        <td>B</td>\n",
       "    </tr>\n",
       "    <tr>\n",
       "        <td>John Smith</td>\n",
       "        <td>B</td>\n",
       "        <td>Plan3</td>\n",
       "    </tr>\n",
       "    <tr>\n",
       "        <td>Jane Doe</td>\n",
       "        <td>Project 4</td>\n",
       "        <td>Plan4</td>\n",
       "    </tr>\n",
       "    <tr>\n",
       "        <td>Eel On Musk</td>\n",
       "        <td>Project 5</td>\n",
       "        <td>Plan5</td>\n",
       "    </tr>\n",
       "    <tr>\n",
       "        <td>Amo Guss</td>\n",
       "        <td>Project 6</td>\n",
       "        <td>Plan6</td>\n",
       "    </tr>\n",
       "    <tr>\n",
       "        <td>Oliver Klozoff</td>\n",
       "        <td>Project 7</td>\n",
       "        <td>Plan7</td>\n",
       "    </tr>\n",
       "    <tr>\n",
       "        <td>Bea O Problem</td>\n",
       "        <td>Project 8</td>\n",
       "        <td>Plan8</td>\n",
       "    </tr>\n",
       "    <tr>\n",
       "        <td>Anita Bath</td>\n",
       "        <td>Project 9</td>\n",
       "        <td>Plan9</td>\n",
       "    </tr>\n",
       "    <tr>\n",
       "        <td>Ima Weiner </td>\n",
       "        <td>Project 10</td>\n",
       "        <td>Plan10</td>\n",
       "    </tr>\n",
       "</table>"
      ],
      "text/plain": [
       "[('James Johnson', 'A', 'A'),\n",
       " ('Benjamin Dover', 'Fix twitter', 'B'),\n",
       " ('John Smith', 'B', 'Plan3'),\n",
       " ('Jane Doe', 'Project 4', 'Plan4'),\n",
       " ('Eel On Musk', 'Project 5', 'Plan5'),\n",
       " ('Amo Guss', 'Project 6', 'Plan6'),\n",
       " ('Oliver Klozoff', 'Project 7', 'Plan7'),\n",
       " ('Bea O Problem', 'Project 8', 'Plan8'),\n",
       " ('Anita Bath', 'Project 9', 'Plan9'),\n",
       " ('Ima Weiner ', 'Project 10', 'Plan10')]"
      ]
     },
     "execution_count": 12,
     "metadata": {},
     "output_type": "execute_result"
    }
   ],
   "source": [
    "%%sql\n",
    "WITH mostWorkingTime AS\n",
    "    (SELECT employeeid, MAX(hoursworked) AS maxhours FROM EmployeeActivity GROUP BY employeeid)\n",
    "\n",
    "SELECT Employee.name, Project.projectname, Plan.planname\n",
    "FROM Employee, Project, Plan, Activity, EmployeeActivity, mostWorkingTime\n",
    "WHERE Employee.employeeid = mostWorkingTime.employeeid AND Project.projectname = Plan.projectname\n",
    "AND Plan.planname = Activity.planname AND Activity.activityid = EmployeeActivity.activityid\n",
    "AND EmployeeActivity.employeeid = mostWorkingTime.employeeid\n",
    "AND EmployeeActivity.hoursworked = mostWorkingTime.maxhours;"
   ]
  },
  {
   "cell_type": "markdown",
   "metadata": {},
   "source": [
    "Retrieve all the employee’s name and their least working time with respect to different project."
   ]
  },
  {
   "cell_type": "code",
   "execution_count": 13,
   "metadata": {
    "vscode": {
     "languageId": "sql"
    }
   },
   "outputs": [
    {
     "name": "stdout",
     "output_type": "stream",
     "text": [
      " * sqlite:///software_project_management.db\n",
      "Done.\n"
     ]
    },
    {
     "data": {
      "text/html": [
       "<table>\n",
       "    <tr>\n",
       "        <th>name</th>\n",
       "        <th>projectname</th>\n",
       "        <th>minhours</th>\n",
       "    </tr>\n",
       "    <tr>\n",
       "        <td>James Johnson</td>\n",
       "        <td>A</td>\n",
       "        <td>10.5</td>\n",
       "    </tr>\n",
       "    <tr>\n",
       "        <td>Benjamin Dover</td>\n",
       "        <td>Fix twitter</td>\n",
       "        <td>3.0</td>\n",
       "    </tr>\n",
       "    <tr>\n",
       "        <td>John Smith</td>\n",
       "        <td>B</td>\n",
       "        <td>2.0</td>\n",
       "    </tr>\n",
       "    <tr>\n",
       "        <td>Jane Doe</td>\n",
       "        <td>Project 4</td>\n",
       "        <td>120.0</td>\n",
       "    </tr>\n",
       "    <tr>\n",
       "        <td>Eel On Musk</td>\n",
       "        <td>Project 5</td>\n",
       "        <td>30.0</td>\n",
       "    </tr>\n",
       "    <tr>\n",
       "        <td>Amo Guss</td>\n",
       "        <td>Project 6</td>\n",
       "        <td>0.45</td>\n",
       "    </tr>\n",
       "    <tr>\n",
       "        <td>Oliver Klozoff</td>\n",
       "        <td>Project 7</td>\n",
       "        <td>70.0</td>\n",
       "    </tr>\n",
       "    <tr>\n",
       "        <td>Bea O Problem</td>\n",
       "        <td>Project 8</td>\n",
       "        <td>12.0</td>\n",
       "    </tr>\n",
       "    <tr>\n",
       "        <td>Anita Bath</td>\n",
       "        <td>Project 9</td>\n",
       "        <td>50.0</td>\n",
       "    </tr>\n",
       "    <tr>\n",
       "        <td>Ima Weiner </td>\n",
       "        <td>Project 10</td>\n",
       "        <td>4.0</td>\n",
       "    </tr>\n",
       "</table>"
      ],
      "text/plain": [
       "[('James Johnson', 'A', 10.5),\n",
       " ('Benjamin Dover', 'Fix twitter', 3.0),\n",
       " ('John Smith', 'B', 2.0),\n",
       " ('Jane Doe', 'Project 4', 120.0),\n",
       " ('Eel On Musk', 'Project 5', 30.0),\n",
       " ('Amo Guss', 'Project 6', 0.45),\n",
       " ('Oliver Klozoff', 'Project 7', 70.0),\n",
       " ('Bea O Problem', 'Project 8', 12.0),\n",
       " ('Anita Bath', 'Project 9', 50.0),\n",
       " ('Ima Weiner ', 'Project 10', 4.0)]"
      ]
     },
     "execution_count": 13,
     "metadata": {},
     "output_type": "execute_result"
    }
   ],
   "source": [
    "%%sql\n",
    "WITH leastWorkingTime AS\n",
    "    (SELECT employeeid, projectname, MIN(hoursworked) AS minhours\n",
    "    FROM EmployeeActivity, Activity, Plan\n",
    "    WHERE EmployeeActivity.activityid = Activity.activityid AND Activity.planname = Plan.planname\n",
    "    GROUP BY employeeid, projectname)\n",
    "SELECT Employee.name, leastWorkingTime.projectname, leastWorkingTime.minhours\n",
    "FROM Employee, leastWorkingTime\n",
    "WHERE Employee.employeeid = leastWorkingTime.employeeid;"
   ]
  },
  {
   "cell_type": "markdown",
   "metadata": {},
   "source": [
    "Retrieve all the plans for project with order of their working period."
   ]
  },
  {
   "cell_type": "code",
   "execution_count": 14,
   "metadata": {
    "vscode": {
     "languageId": "sql"
    }
   },
   "outputs": [
    {
     "name": "stdout",
     "output_type": "stream",
     "text": [
      " * sqlite:///software_project_management.db\n",
      "Done.\n"
     ]
    },
    {
     "data": {
      "text/html": [
       "<table>\n",
       "    <tr>\n",
       "        <th>planname</th>\n",
       "        <th>projectname</th>\n",
       "        <th>startdate</th>\n",
       "        <th>enddate</th>\n",
       "    </tr>\n",
       "    <tr>\n",
       "        <td>A</td>\n",
       "        <td>A</td>\n",
       "        <td>2018-01-01</td>\n",
       "        <td>2018-12-31</td>\n",
       "    </tr>\n",
       "</table>"
      ],
      "text/plain": [
       "[('A', 'A', '2018-01-01', '2018-12-31')]"
      ]
     },
     "execution_count": 14,
     "metadata": {},
     "output_type": "execute_result"
    }
   ],
   "source": [
    "%%sql\n",
    "SELECT *\n",
    "FROM Plan\n",
    "WHERE projectname = \"A\"\n",
    "ORDER BY julianday(startdate);"
   ]
  }
 ],
 "metadata": {
  "kernelspec": {
   "display_name": "Python 3 (ipykernel)",
   "language": "python",
   "name": "python3"
  },
  "language_info": {
   "codemirror_mode": {
    "name": "ipython",
    "version": 3
   },
   "file_extension": ".py",
   "mimetype": "text/x-python",
   "name": "python",
   "nbconvert_exporter": "python",
   "pygments_lexer": "ipython3",
   "version": "3.9.12"
  },
  "vscode": {
   "interpreter": {
    "hash": "e7370f93d1d0cde622a1f8e1c04877d8463912d04d973331ad4851f04de6915a"
   }
  }
 },
 "nbformat": 4,
 "nbformat_minor": 2
}
